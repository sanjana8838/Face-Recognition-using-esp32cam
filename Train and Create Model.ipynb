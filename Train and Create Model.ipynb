import numpy as np
from glob import glob
from os.path import basename
from PIL import Image
